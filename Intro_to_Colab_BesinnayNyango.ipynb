{
  "nbformat": 4,
  "nbformat_minor": 0,
  "metadata": {
    "colab": {
      "provenance": [],
      "gpuType": "V28",
      "authorship_tag": "ABX9TyPZHHGNXpfpISA3JqNMEkza",
      "include_colab_link": true
    },
    "kernelspec": {
      "name": "python3",
      "display_name": "Python 3"
    },
    "language_info": {
      "name": "python"
    },
    "accelerator": "TPU"
  },
  "cells": [
    {
      "cell_type": "markdown",
      "metadata": {
        "id": "view-in-github",
        "colab_type": "text"
      },
      "source": [
        "<a href=\"https://colab.research.google.com/github/besinnat/besinnat/blob/main/Intro_to_Colab_BesinnayNyango.ipynb\" target=\"_parent\"><img src=\"https://colab.research.google.com/assets/colab-badge.svg\" alt=\"Open In Colab\"/></a>"
      ]
    },
    {
      "cell_type": "code",
      "execution_count": 2,
      "metadata": {
        "colab": {
          "base_uri": "https://localhost:8080/"
        },
        "id": "iWySpxcWB0qR",
        "outputId": "aae5234c-7c72-4636-d2d8-0c22e5d65159"
      },
      "outputs": [
        {
          "output_type": "stream",
          "name": "stdout",
          "text": [
            "Hello Welcome to my Colab Intro Page\n",
            "Hello Welcome to my Colab Intro Page\n"
          ]
        }
      ],
      "source": [
        "print(\"Hello Welcome to my Colab Intro Page\")"
      ]
    },
    {
      "cell_type": "markdown",
      "source": [
        "Google Colaboratory (Colab) is a free, cloud-based Jupyter Notebook environment developed by\n",
        "Google. It enables users to write and execute Python code in a web-based interface without\n",
        "needing local installations. Colab supports real-time collaboration, access to GPUs, and\n",
        "seamless integration with Google Drive making it ideal for machine learning and data science\n",
        "work, especially neural network implementation."
      ],
      "metadata": {
        "id": "Pk9s36ZhCohm"
      }
    },
    {
      "cell_type": "code",
      "source": [],
      "metadata": {
        "id": "nTLhkgZJD7TR"
      },
      "execution_count": null,
      "outputs": []
    }
  ]
}